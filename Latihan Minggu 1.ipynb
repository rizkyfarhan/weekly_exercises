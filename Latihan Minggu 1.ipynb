{
 "cells": [
  {
   "cell_type": "code",
   "execution_count": 1,
   "metadata": {},
   "outputs": [],
   "source": [
    "import numpy as np\n",
    "import pandas as pd"
   ]
  },
  {
   "cell_type": "markdown",
   "metadata": {},
   "source": [
    "### SOAL 1"
   ]
  },
  {
   "cell_type": "code",
   "execution_count": 4,
   "metadata": {},
   "outputs": [
    {
     "data": {
      "text/plain": [
       "array([ 58,  29, 130,  68, 127,  58,  31, 192,  88,  45,  98, 182, 132,\n",
       "        37, 178, 118, 150, 122,  90, 195, 108,  48, 177,  87,  58,  44,\n",
       "        38, 105, 138,  58, 100,   2,  48, 107,  11, 160, 133,  38,  36,\n",
       "       112,  93,   5, 167,  52, 172,   8, 124, 123,  31, 139,  21,  47,\n",
       "        65, 118,  99, 144,  85, 164,  95,  52,  53, 113, 185,  17,  17,\n",
       "       150, 103, 196,  58,  56,  11, 151,  98,  71, 148,  81,  31,  68,\n",
       "        34, 142,  27])"
      ]
     },
     "execution_count": 4,
     "metadata": {},
     "output_type": "execute_result"
    }
   ],
   "source": [
    "arr = np.random.randint(0,201,81)\n",
    "arr"
   ]
  },
  {
   "cell_type": "code",
   "execution_count": 28,
   "metadata": {},
   "outputs": [],
   "source": [
    "v1 = np.random.randint(0,81,1)\n",
    "v2 = np.random.randint(0,81,1)\n",
    "v3 = np.random.randint(0,81,1)\n",
    "v4 = np.random.randint(0,81,1)\n",
    "v5 = np.random.randint(0,81,1)\n",
    "v6 = np.random.randint(0,81,1)\n",
    "v7 = np.random.randint(0,81,1)\n",
    "v8 = np.random.randint(0,81,1)\n",
    "v9 = np.random.randint(0,81,1)\n",
    "v10 = np.random.randint(0,81,1)\n",
    "v11 = np.random.randint(0,81,1)\n",
    "v12 = np.random.randint(0,81,1)\n",
    "v13 = np.random.randint(0,81,1)\n",
    "v14 = np.random.randint(0,81,1)\n",
    "v15 = np.random.randint(0,81,1)\n",
    "v16 = np.random.randint(0,81,1)"
   ]
  },
  {
   "cell_type": "code",
   "execution_count": 29,
   "metadata": {},
   "outputs": [
    {
     "data": {
      "text/plain": [
       "array([[118, 105,  56, 132],\n",
       "       [  2,  21, 148, 150],\n",
       "       [ 48,  90,  98,  98],\n",
       "       [148,  68,  52,   5]])"
      ]
     },
     "execution_count": 29,
     "metadata": {},
     "output_type": "execute_result"
    }
   ],
   "source": [
    "arr2 = np.array([arr[v1], arr[v2], arr[v3], arr[v4], arr[v5], arr[v6], arr[v7], arr[v8], arr[v9], arr[v10], arr[v11], arr[v12], arr[v13], arr[v14], arr[v15], arr[v16]]).reshape(4,4)\n",
    "arr2"
   ]
  },
  {
   "cell_type": "code",
   "execution_count": 30,
   "metadata": {},
   "outputs": [],
   "source": [
    "v1 = np.random.randint(0,81,1)\n",
    "v2 = np.random.randint(0,81,1)\n",
    "v3 = np.random.randint(0,81,1)\n",
    "v4 = np.random.randint(0,81,1)\n",
    "v5 = np.random.randint(0,81,1)\n",
    "v6 = np.random.randint(0,81,1)\n",
    "v7 = np.random.randint(0,81,1)\n",
    "v8 = np.random.randint(0,81,1)\n",
    "v9 = np.random.randint(0,81,1)\n",
    "v10 = np.random.randint(0,81,1)\n",
    "v11 = np.random.randint(0,81,1)\n",
    "v12 = np.random.randint(0,81,1)\n",
    "v13 = np.random.randint(0,81,1)\n",
    "v14 = np.random.randint(0,81,1)\n",
    "v15 = np.random.randint(0,81,1)\n",
    "v16 = np.random.randint(0,81,1)"
   ]
  },
  {
   "cell_type": "code",
   "execution_count": 31,
   "metadata": {},
   "outputs": [
    {
     "data": {
      "text/plain": [
       "array([[ 11,  58, 196,  11],\n",
       "       [ 98,  58, 107,  98],\n",
       "       [ 37, 133,  98, 123],\n",
       "       [  2,  58, 178, 107]])"
      ]
     },
     "execution_count": 31,
     "metadata": {},
     "output_type": "execute_result"
    }
   ],
   "source": [
    "arr3 = np.array([arr[v1], arr[v2], arr[v3], arr[v4], arr[v5], arr[v6], arr[v7], arr[v8], arr[v9], arr[v10], arr[v11], arr[v12], arr[v13], arr[v14], arr[v15], arr[v16]]).reshape(4,4)\n",
    "arr3"
   ]
  },
  {
   "cell_type": "code",
   "execution_count": 32,
   "metadata": {},
   "outputs": [
    {
     "data": {
      "text/plain": [
       "array([[ 1298,  6090, 10976,  1452],\n",
       "       [  196,  1218, 15836, 14700],\n",
       "       [ 1776, 11970,  9604, 12054],\n",
       "       [  296,  3944,  9256,   535]])"
      ]
     },
     "execution_count": 32,
     "metadata": {},
     "output_type": "execute_result"
    }
   ],
   "source": [
    "arr4 = arr2 * arr3\n",
    "arr4"
   ]
  },
  {
   "cell_type": "code",
   "execution_count": 34,
   "metadata": {},
   "outputs": [
    {
     "data": {
      "text/plain": [
       "array([ 1298,  6090, 10976,  1452])"
      ]
     },
     "execution_count": 34,
     "metadata": {},
     "output_type": "execute_result"
    }
   ],
   "source": [
    "arr4[0]"
   ]
  },
  {
   "cell_type": "code",
   "execution_count": 35,
   "metadata": {},
   "outputs": [
    {
     "data": {
      "text/plain": [
       "array([  196,  1218, 15836, 14700])"
      ]
     },
     "execution_count": 35,
     "metadata": {},
     "output_type": "execute_result"
    }
   ],
   "source": [
    "arr4[1]"
   ]
  },
  {
   "cell_type": "code",
   "execution_count": 36,
   "metadata": {},
   "outputs": [
    {
     "data": {
      "text/plain": [
       "array([ 1776, 11970,  9604, 12054])"
      ]
     },
     "execution_count": 36,
     "metadata": {},
     "output_type": "execute_result"
    }
   ],
   "source": [
    "arr4[2]"
   ]
  },
  {
   "cell_type": "code",
   "execution_count": 37,
   "metadata": {},
   "outputs": [
    {
     "data": {
      "text/plain": [
       "array([ 296, 3944, 9256,  535])"
      ]
     },
     "execution_count": 37,
     "metadata": {},
     "output_type": "execute_result"
    }
   ],
   "source": [
    "arr4[3]"
   ]
  },
  {
   "cell_type": "markdown",
   "metadata": {},
   "source": [
    "### SOAL 2"
   ]
  },
  {
   "cell_type": "code",
   "execution_count": 40,
   "metadata": {},
   "outputs": [
    {
     "data": {
      "text/plain": [
       "array([  0.        ,   2.04081633,   4.08163265,   6.12244898,\n",
       "         8.16326531,  10.20408163,  12.24489796,  14.28571429,\n",
       "        16.32653061,  18.36734694,  20.40816327,  22.44897959,\n",
       "        24.48979592,  26.53061224,  28.57142857,  30.6122449 ,\n",
       "        32.65306122,  34.69387755,  36.73469388,  38.7755102 ,\n",
       "        40.81632653,  42.85714286,  44.89795918,  46.93877551,\n",
       "        48.97959184,  51.02040816,  53.06122449,  55.10204082,\n",
       "        57.14285714,  59.18367347,  61.2244898 ,  63.26530612,\n",
       "        65.30612245,  67.34693878,  69.3877551 ,  71.42857143,\n",
       "        73.46938776,  75.51020408,  77.55102041,  79.59183673,\n",
       "        81.63265306,  83.67346939,  85.71428571,  87.75510204,\n",
       "        89.79591837,  91.83673469,  93.87755102,  95.91836735,\n",
       "        97.95918367, 100.        ])"
      ]
     },
     "execution_count": 40,
     "metadata": {},
     "output_type": "execute_result"
    }
   ],
   "source": [
    "arr5 = np.linspace(0,100,50)\n",
    "arr5"
   ]
  },
  {
   "cell_type": "code",
   "execution_count": 75,
   "metadata": {},
   "outputs": [
    {
     "data": {
      "text/plain": [
       "array([[ 8.16326531, 10.20408163, 12.24489796, 14.28571429, 16.32653061],\n",
       "       [18.36734694, 20.40816327, 22.44897959, 24.48979592, 26.53061224],\n",
       "       [28.57142857, 30.6122449 , 32.65306122, 34.69387755, 36.73469388],\n",
       "       [38.7755102 , 40.81632653, 42.85714286, 44.89795918, 46.93877551]])"
      ]
     },
     "execution_count": 75,
     "metadata": {},
     "output_type": "execute_result"
    }
   ],
   "source": [
    "arr6 = arr5[4:24].reshape(4,5)\n",
    "arr6"
   ]
  },
  {
   "cell_type": "code",
   "execution_count": 83,
   "metadata": {},
   "outputs": [
    {
     "data": {
      "text/plain": [
       "array([[ 8.16326531, 10.20408163, 12.24489796, 14.28571429, 16.32653061,\n",
       "        18.36734694, 20.40816327, 22.44897959, 24.48979592, 26.53061224,\n",
       "        28.57142857, 30.6122449 , 32.65306122, 34.69387755, 36.73469388,\n",
       "        38.7755102 , 40.81632653, 42.85714286, 44.89795918, 46.93877551]])"
      ]
     },
     "execution_count": 83,
     "metadata": {},
     "output_type": "execute_result"
    }
   ],
   "source": [
    "arr6.reshape(1,20)"
   ]
  },
  {
   "cell_type": "code",
   "execution_count": 78,
   "metadata": {},
   "outputs": [
    {
     "data": {
      "text/plain": [
       "46.93877551020408"
      ]
     },
     "execution_count": 78,
     "metadata": {},
     "output_type": "execute_result"
    }
   ],
   "source": [
    "nmax = arr6.max()\n",
    "nmax"
   ]
  },
  {
   "cell_type": "code",
   "execution_count": 79,
   "metadata": {},
   "outputs": [
    {
     "data": {
      "text/plain": [
       "19"
      ]
     },
     "execution_count": 79,
     "metadata": {},
     "output_type": "execute_result"
    }
   ],
   "source": [
    "arr6.argmax()"
   ]
  },
  {
   "cell_type": "code",
   "execution_count": 80,
   "metadata": {},
   "outputs": [
    {
     "data": {
      "text/plain": [
       "8.16326530612245"
      ]
     },
     "execution_count": 80,
     "metadata": {},
     "output_type": "execute_result"
    }
   ],
   "source": [
    "nmin = arr6.min()\n",
    "nmin"
   ]
  },
  {
   "cell_type": "code",
   "execution_count": 81,
   "metadata": {},
   "outputs": [
    {
     "data": {
      "text/plain": [
       "0"
      ]
     },
     "execution_count": 81,
     "metadata": {},
     "output_type": "execute_result"
    }
   ],
   "source": [
    "arr6.argmin()"
   ]
  },
  {
   "cell_type": "code",
   "execution_count": 82,
   "metadata": {},
   "outputs": [
    {
     "data": {
      "text/plain": [
       "55.10204081632653"
      ]
     },
     "execution_count": 82,
     "metadata": {},
     "output_type": "execute_result"
    }
   ],
   "source": [
    "nmax + nmin"
   ]
  },
  {
   "cell_type": "markdown",
   "metadata": {},
   "source": [
    "### SOAL 3"
   ]
  },
  {
   "cell_type": "code",
   "execution_count": 126,
   "metadata": {},
   "outputs": [
    {
     "data": {
      "text/plain": [
       "array([ 1,  4,  1,  3, 10,  5,  1])"
      ]
     },
     "execution_count": 126,
     "metadata": {},
     "output_type": "execute_result"
    }
   ],
   "source": [
    "parray = 7\n",
    "\n",
    "arr7 = np.random.randint(0,11,parray)\n",
    "arr7"
   ]
  },
  {
   "cell_type": "code",
   "execution_count": 127,
   "metadata": {},
   "outputs": [],
   "source": [
    "if parray % 2 == 0:\n",
    "    arr7[(parray//2):] = 22\n",
    "else:\n",
    "    arr7[:((parray+1)//2)] = 23"
   ]
  },
  {
   "cell_type": "code",
   "execution_count": 132,
   "metadata": {},
   "outputs": [
    {
     "data": {
      "text/plain": [
       "array([23, 23, 23, 23, 10,  5,  1])"
      ]
     },
     "execution_count": 132,
     "metadata": {},
     "output_type": "execute_result"
    }
   ],
   "source": [
    "arr7"
   ]
  },
  {
   "cell_type": "code",
   "execution_count": 129,
   "metadata": {},
   "outputs": [
    {
     "data": {
      "text/plain": [
       "array([ True,  True,  True,  True, False, False, False])"
      ]
     },
     "execution_count": 129,
     "metadata": {},
     "output_type": "execute_result"
    }
   ],
   "source": [
    "arr7>20"
   ]
  },
  {
   "cell_type": "code",
   "execution_count": 130,
   "metadata": {},
   "outputs": [
    {
     "data": {
      "text/plain": [
       "array([23, 23, 23, 23])"
      ]
     },
     "execution_count": 130,
     "metadata": {},
     "output_type": "execute_result"
    }
   ],
   "source": [
    "arr7[arr7>20]"
   ]
  },
  {
   "cell_type": "markdown",
   "metadata": {},
   "source": [
    "### SOAL 4"
   ]
  },
  {
   "cell_type": "code",
   "execution_count": 204,
   "metadata": {},
   "outputs": [
    {
     "data": {
      "text/plain": [
       "12"
      ]
     },
     "execution_count": 204,
     "metadata": {},
     "output_type": "execute_result"
    }
   ],
   "source": [
    "n = int(np.random.randint(1,21,1))\n",
    "n"
   ]
  },
  {
   "cell_type": "code",
   "execution_count": 205,
   "metadata": {},
   "outputs": [
    {
     "data": {
      "text/plain": [
       "array([[0., 0., 0., 0., 0., 0., 0., 0., 0., 0., 0., 0.],\n",
       "       [0., 0., 0., 0., 0., 0., 0., 0., 0., 0., 0., 0.],\n",
       "       [0., 0., 0., 0., 0., 0., 0., 0., 0., 0., 0., 0.],\n",
       "       [0., 0., 0., 0., 0., 0., 0., 0., 0., 0., 0., 0.]])"
      ]
     },
     "execution_count": 205,
     "metadata": {},
     "output_type": "execute_result"
    }
   ],
   "source": [
    "arr8 = np.zeros(n*4).reshape(4,n)\n",
    "arr8"
   ]
  },
  {
   "cell_type": "code",
   "execution_count": 206,
   "metadata": {},
   "outputs": [
    {
     "data": {
      "text/plain": [
       "array([89, 23, 62, 14])"
      ]
     },
     "execution_count": 206,
     "metadata": {},
     "output_type": "execute_result"
    }
   ],
   "source": [
    "n1 = np.random.randint(1,101,4)\n",
    "n1"
   ]
  },
  {
   "cell_type": "code",
   "execution_count": 207,
   "metadata": {},
   "outputs": [],
   "source": [
    "for i in range(4):\n",
    "    for j in range(len(n1)):\n",
    "        arr8[i] = n1[i]"
   ]
  },
  {
   "cell_type": "code",
   "execution_count": 208,
   "metadata": {},
   "outputs": [
    {
     "data": {
      "text/plain": [
       "array([[89., 89., 89., 89., 89., 89., 89., 89., 89., 89., 89., 89.],\n",
       "       [23., 23., 23., 23., 23., 23., 23., 23., 23., 23., 23., 23.],\n",
       "       [62., 62., 62., 62., 62., 62., 62., 62., 62., 62., 62., 62.],\n",
       "       [14., 14., 14., 14., 14., 14., 14., 14., 14., 14., 14., 14.]])"
      ]
     },
     "execution_count": 208,
     "metadata": {},
     "output_type": "execute_result"
    }
   ],
   "source": [
    "arr8"
   ]
  },
  {
   "cell_type": "code",
   "execution_count": 213,
   "metadata": {},
   "outputs": [
    {
     "data": {
      "text/plain": [
       "75.5"
      ]
     },
     "execution_count": 213,
     "metadata": {},
     "output_type": "execute_result"
    }
   ],
   "source": [
    "(np.average(arr8[0]) + np.average(arr8[2])) / 2"
   ]
  },
  {
   "cell_type": "markdown",
   "metadata": {},
   "source": [
    "### SOAL 5"
   ]
  },
  {
   "cell_type": "code",
   "execution_count": null,
   "metadata": {},
   "outputs": [],
   "source": [
    "print('Menu 1')\n",
    "print('Menu 2')\n",
    "print('Menu 3')\n",
    "print('Menu 4')\n",
    "pilih = int(input('Pilih menu: '))\n",
    "if pilih == 1:\n",
    "    pa = int(input('Masukkan panjang array: '))\n",
    "    arr9 = np.zeros(pa)\n",
    "    for i in range(pa):\n",
    "        data = int(input('Angkat ke-' + str(i+1) + ': '))\n",
    "        arr9[i] = data\n",
    "    print(arr9)\n",
    "    baris = int(input('Baris matriks yang diinginkan: '))\n",
    "    kolom = int(input('Kolom matriks yang diinginkan: '))\n",
    "    arr9 = arr9.reshape(baris,kolom)\n",
    "    print(arr9)\n",
    "elif pilih == 2:\n",
    "    li = []\n",
    "    jumlahdata = 0\n",
    "    while jumlahdata < 25:\n",
    "        datrand = abs(np.random.randn()*10)\n",
    "        if datrand >= 1 and datrand < 10:\n",
    "            li.append(datrand)\n",
    "            jumlahdata += 1\n",
    "    arr10 = np.array(li).reshape(5,5)\n",
    "    print(arr10)\n",
    "    nmax = arr10.max()\n",
    "    print('Nilai maksimum: ' + str(nmax))\n",
    "    nmin = arr10.min()\n",
    "    print('Nilai minumum: ' + str(nmin))\n",
    "    print(np.array([arr10[0]*arr10[3],arr10[2]*3,arr10[4]*2]))\n",
    "elif pilih == 3:\n",
    "    arr11 = np.random.randint(1,11,4).reshape(2,2)\n",
    "    print(arr11)\n",
    "    arr11 = np.linalg.inv(arr11)\n",
    "    print(arr11)\n",
    "elif pilih == 4:\n",
    "    arr12 = np.random.randint(1,11,9).reshape(3,3)\n",
    "    print(arr12)\n",
    "    det = np.linalg.det(arr12)\n",
    "    print('Nilai determinan: ' + str(det))\n",
    "else:\n",
    "    print('Masukkan pilihan yang benar')"
   ]
  },
  {
   "cell_type": "code",
   "execution_count": 301,
   "metadata": {},
   "outputs": [
    {
     "name": "stdout",
     "output_type": "stream",
     "text": [
      "Menu 1\n",
      "Menu 2\n",
      "Menu 3\n",
      "Menu 4\n",
      "Pilih menu: 1\n",
      "Masukkan panjang array: 9\n",
      "Angkat ke-1: 1\n",
      "Angkat ke-2: 2\n",
      "Angkat ke-3: 3\n",
      "Angkat ke-4: 4\n",
      "Angkat ke-5: 5\n",
      "Angkat ke-6: 6\n",
      "Angkat ke-7: 7\n",
      "Angkat ke-8: 8\n",
      "Angkat ke-9: 9\n",
      "[1. 2. 3. 4. 5. 6. 7. 8. 9.]\n",
      "Baris matriks yang diinginkan: 3\n",
      "Kolom matriks yang diinginkan: 3\n",
      "[[1. 2. 3.]\n",
      " [4. 5. 6.]\n",
      " [7. 8. 9.]]\n"
     ]
    }
   ],
   "source": [
    "# HASIL MENU 1"
   ]
  },
  {
   "cell_type": "code",
   "execution_count": 302,
   "metadata": {},
   "outputs": [
    {
     "name": "stdout",
     "output_type": "stream",
     "text": [
      "Menu 1\n",
      "Menu 2\n",
      "Menu 3\n",
      "Menu 4\n",
      "Pilih menu: 2\n",
      "[[9.5854524  7.84671964 1.84528016 8.37987097 1.06587244]\n",
      " [2.63929129 4.31730803 6.03173253 5.3516032  2.63730765]\n",
      " [8.61371188 1.37408429 3.35072101 1.01925976 5.53315881]\n",
      " [3.9494507  1.1810758  1.16849899 7.14653825 4.30658688]\n",
      " [9.65167722 7.40652373 4.12795527 1.43669773 3.66328636]]\n",
      "Nilai maksimum: 9.651677222977357\n",
      "Nilai minumum: 1.0192597594717392\n",
      "[[37.85727172  9.26757071  2.156208   59.88706838  4.59027226]\n",
      " [25.84113563  4.12225288 10.05216303  3.05777928 16.59947643]\n",
      " [19.30335445 14.81304746  8.25591054  2.87339546  7.32657272]]\n"
     ]
    }
   ],
   "source": [
    "# HASIL MENU 2"
   ]
  },
  {
   "cell_type": "code",
   "execution_count": 303,
   "metadata": {},
   "outputs": [
    {
     "name": "stdout",
     "output_type": "stream",
     "text": [
      "Menu 1\n",
      "Menu 2\n",
      "Menu 3\n",
      "Menu 4\n",
      "Pilih menu: 3\n",
      "[[1 5]\n",
      " [2 2]]\n",
      "[[-0.25   0.625]\n",
      " [ 0.25  -0.125]]\n"
     ]
    }
   ],
   "source": [
    "# HASIL MENU 3"
   ]
  },
  {
   "cell_type": "code",
   "execution_count": 304,
   "metadata": {
    "scrolled": true
   },
   "outputs": [
    {
     "name": "stdout",
     "output_type": "stream",
     "text": [
      "Menu 1\n",
      "Menu 2\n",
      "Menu 3\n",
      "Menu 4\n",
      "Pilih menu: 4\n",
      "[[10  2  2]\n",
      " [ 6  8 10]\n",
      " [ 6  8  7]]\n",
      "Nilai diskriminan: -204.0000000000001\n"
     ]
    }
   ],
   "source": [
    "# HASIL MENU 4"
   ]
  },
  {
   "cell_type": "markdown",
   "metadata": {},
   "source": [
    "### SOAL 6"
   ]
  },
  {
   "cell_type": "code",
   "execution_count": 307,
   "metadata": {},
   "outputs": [
    {
     "data": {
      "text/plain": [
       "Apel          9.587312\n",
       "Jeruk         1.921830\n",
       "Manggis      47.577656\n",
       "Belimbing    25.736344\n",
       "Semangka     30.768876\n",
       "Pepaya       31.600232\n",
       "Pisang       16.153915\n",
       "Pir          29.660662\n",
       "Melon        34.915976\n",
       "Stroberi      3.715269\n",
       "dtype: float64"
      ]
     },
     "execution_count": 307,
     "metadata": {},
     "output_type": "execute_result"
    }
   ],
   "source": [
    "ser1 = pd.Series(np.random.uniform(1,50,10),index=['Apel', 'Jeruk', 'Manggis','Belimbing','Semangka','Pepaya','Pisang','Pir','Melon','Stroberi'])\n",
    "ser1"
   ]
  },
  {
   "cell_type": "code",
   "execution_count": 308,
   "metadata": {},
   "outputs": [
    {
     "data": {
      "text/plain": [
       "Jakarta            Jawa\n",
       "Denpasar           Bali\n",
       "Medan           Sumatra\n",
       "Samarinda    Kalimantan\n",
       "Makassar       Sulawesi\n",
       "dtype: object"
      ]
     },
     "execution_count": 308,
     "metadata": {},
     "output_type": "execute_result"
    }
   ],
   "source": [
    "ser2 = pd.Series(['Jawa','Bali','Sumatra','Kalimantan','Sulawesi'],index=['Jakarta','Denpasar','Medan','Samarinda','Makassar'])\n",
    "ser2"
   ]
  },
  {
   "cell_type": "code",
   "execution_count": 310,
   "metadata": {},
   "outputs": [
    {
     "data": {
      "text/plain": [
       "Apel        33\n",
       "Anggur      33\n",
       "Aprikot     47\n",
       "Alpukat     11\n",
       "Ilama       16\n",
       "Illawara    15\n",
       "Imbe        27\n",
       "Mangga      42\n",
       "Manggis     29\n",
       "Markisa     25\n",
       "dtype: int64"
      ]
     },
     "execution_count": 310,
     "metadata": {},
     "output_type": "execute_result"
    }
   ],
   "source": [
    "ser3 = pd.Series(np.random.randint(11,50,10),index=['Apel','Anggur','Aprikot','Alpukat','Ilama','Illawara','Imbe','Mangga','Manggis','Markisa'])\n",
    "ser3"
   ]
  },
  {
   "cell_type": "code",
   "execution_count": 312,
   "metadata": {
    "scrolled": true
   },
   "outputs": [
    {
     "data": {
      "text/plain": [
       "Apel         NaN\n",
       "Belimbing    NaN\n",
       "Denpasar     NaN\n",
       "Jakarta      NaN\n",
       "Jeruk        NaN\n",
       "Makassar     NaN\n",
       "Manggis      NaN\n",
       "Medan        NaN\n",
       "Melon        NaN\n",
       "Pepaya       NaN\n",
       "Pir          NaN\n",
       "Pisang       NaN\n",
       "Samarinda    NaN\n",
       "Semangka     NaN\n",
       "Stroberi     NaN\n",
       "dtype: object"
      ]
     },
     "execution_count": 312,
     "metadata": {},
     "output_type": "execute_result"
    }
   ],
   "source": [
    "jumlahan12 = ser1 + ser2\n",
    "jumlahan12"
   ]
  },
  {
   "cell_type": "code",
   "execution_count": 314,
   "metadata": {},
   "outputs": [
    {
     "data": {
      "text/plain": [
       "Alpukat              NaN\n",
       "Anggur               NaN\n",
       "Apel          316.381283\n",
       "Aprikot              NaN\n",
       "Belimbing            NaN\n",
       "Ilama                NaN\n",
       "Illawara             NaN\n",
       "Imbe                 NaN\n",
       "Jeruk                NaN\n",
       "Mangga               NaN\n",
       "Manggis      1379.752037\n",
       "Markisa              NaN\n",
       "Melon                NaN\n",
       "Pepaya               NaN\n",
       "Pir                  NaN\n",
       "Pisang               NaN\n",
       "Semangka             NaN\n",
       "Stroberi             NaN\n",
       "dtype: float64"
      ]
     },
     "execution_count": 314,
     "metadata": {},
     "output_type": "execute_result"
    }
   ],
   "source": [
    "kali13 = ser1 * ser3\n",
    "kali13"
   ]
  },
  {
   "cell_type": "markdown",
   "metadata": {},
   "source": [
    "### SOAL 7"
   ]
  },
  {
   "cell_type": "code",
   "execution_count": 404,
   "metadata": {},
   "outputs": [
    {
     "data": {
      "text/html": [
       "<div>\n",
       "<style scoped>\n",
       "    .dataframe tbody tr th:only-of-type {\n",
       "        vertical-align: middle;\n",
       "    }\n",
       "\n",
       "    .dataframe tbody tr th {\n",
       "        vertical-align: top;\n",
       "    }\n",
       "\n",
       "    .dataframe thead th {\n",
       "        text-align: right;\n",
       "    }\n",
       "</style>\n",
       "<table border=\"1\" class=\"dataframe\">\n",
       "  <thead>\n",
       "    <tr style=\"text-align: right;\">\n",
       "      <th></th>\n",
       "      <th>A</th>\n",
       "      <th>B</th>\n",
       "      <th>C</th>\n",
       "    </tr>\n",
       "  </thead>\n",
       "  <tbody>\n",
       "    <tr>\n",
       "      <th>1</th>\n",
       "      <td>93</td>\n",
       "      <td>1.000000</td>\n",
       "      <td>170.696625</td>\n",
       "    </tr>\n",
       "    <tr>\n",
       "      <th>3</th>\n",
       "      <td>38</td>\n",
       "      <td>1.666667</td>\n",
       "      <td>78.793291</td>\n",
       "    </tr>\n",
       "    <tr>\n",
       "      <th>5</th>\n",
       "      <td>10</td>\n",
       "      <td>2.333333</td>\n",
       "      <td>177.710807</td>\n",
       "    </tr>\n",
       "    <tr>\n",
       "      <th>7</th>\n",
       "      <td>42</td>\n",
       "      <td>3.000000</td>\n",
       "      <td>76.169552</td>\n",
       "    </tr>\n",
       "    <tr>\n",
       "      <th>9</th>\n",
       "      <td>82</td>\n",
       "      <td>3.666667</td>\n",
       "      <td>25.129794</td>\n",
       "    </tr>\n",
       "    <tr>\n",
       "      <th>11</th>\n",
       "      <td>14</td>\n",
       "      <td>4.333333</td>\n",
       "      <td>188.490892</td>\n",
       "    </tr>\n",
       "    <tr>\n",
       "      <th>13</th>\n",
       "      <td>13</td>\n",
       "      <td>5.000000</td>\n",
       "      <td>103.111684</td>\n",
       "    </tr>\n",
       "    <tr>\n",
       "      <th>15</th>\n",
       "      <td>74</td>\n",
       "      <td>5.666667</td>\n",
       "      <td>32.319825</td>\n",
       "    </tr>\n",
       "    <tr>\n",
       "      <th>17</th>\n",
       "      <td>44</td>\n",
       "      <td>6.333333</td>\n",
       "      <td>50.470450</td>\n",
       "    </tr>\n",
       "    <tr>\n",
       "      <th>19</th>\n",
       "      <td>81</td>\n",
       "      <td>7.000000</td>\n",
       "      <td>188.765636</td>\n",
       "    </tr>\n",
       "  </tbody>\n",
       "</table>\n",
       "</div>"
      ],
      "text/plain": [
       "     A         B           C\n",
       "1   93  1.000000  170.696625\n",
       "3   38  1.666667   78.793291\n",
       "5   10  2.333333  177.710807\n",
       "7   42  3.000000   76.169552\n",
       "9   82  3.666667   25.129794\n",
       "11  14  4.333333  188.490892\n",
       "13  13  5.000000  103.111684\n",
       "15  74  5.666667   32.319825\n",
       "17  44  6.333333   50.470450\n",
       "19  81  7.000000  188.765636"
      ]
     },
     "execution_count": 404,
     "metadata": {},
     "output_type": "execute_result"
    }
   ],
   "source": [
    "df = pd.DataFrame(index='1 3 5 7 9 11 13 15 17 19'.split(),columns='A B C'.split())\n",
    "df['A'] = np.random.randint(1,101,10)\n",
    "df['B'] = np.linspace(1,7,10)\n",
    "df['C'] = np.random.uniform(1,201,10)\n",
    "df"
   ]
  },
  {
   "cell_type": "code",
   "execution_count": 405,
   "metadata": {},
   "outputs": [
    {
     "data": {
      "text/html": [
       "<div>\n",
       "<style scoped>\n",
       "    .dataframe tbody tr th:only-of-type {\n",
       "        vertical-align: middle;\n",
       "    }\n",
       "\n",
       "    .dataframe tbody tr th {\n",
       "        vertical-align: top;\n",
       "    }\n",
       "\n",
       "    .dataframe thead th {\n",
       "        text-align: right;\n",
       "    }\n",
       "</style>\n",
       "<table border=\"1\" class=\"dataframe\">\n",
       "  <thead>\n",
       "    <tr style=\"text-align: right;\">\n",
       "      <th></th>\n",
       "      <th>A</th>\n",
       "      <th>B</th>\n",
       "      <th>C</th>\n",
       "      <th>D</th>\n",
       "      <th>E</th>\n",
       "    </tr>\n",
       "  </thead>\n",
       "  <tbody>\n",
       "    <tr>\n",
       "      <th>1</th>\n",
       "      <td>93</td>\n",
       "      <td>1.000000</td>\n",
       "      <td>170.696625</td>\n",
       "      <td>94.000000</td>\n",
       "      <td>170.696625</td>\n",
       "    </tr>\n",
       "    <tr>\n",
       "      <th>3</th>\n",
       "      <td>38</td>\n",
       "      <td>1.666667</td>\n",
       "      <td>78.793291</td>\n",
       "      <td>39.666667</td>\n",
       "      <td>131.322152</td>\n",
       "    </tr>\n",
       "    <tr>\n",
       "      <th>5</th>\n",
       "      <td>10</td>\n",
       "      <td>2.333333</td>\n",
       "      <td>177.710807</td>\n",
       "      <td>12.333333</td>\n",
       "      <td>414.658550</td>\n",
       "    </tr>\n",
       "    <tr>\n",
       "      <th>7</th>\n",
       "      <td>42</td>\n",
       "      <td>3.000000</td>\n",
       "      <td>76.169552</td>\n",
       "      <td>45.000000</td>\n",
       "      <td>228.508657</td>\n",
       "    </tr>\n",
       "    <tr>\n",
       "      <th>9</th>\n",
       "      <td>82</td>\n",
       "      <td>3.666667</td>\n",
       "      <td>25.129794</td>\n",
       "      <td>85.666667</td>\n",
       "      <td>92.142578</td>\n",
       "    </tr>\n",
       "    <tr>\n",
       "      <th>11</th>\n",
       "      <td>14</td>\n",
       "      <td>4.333333</td>\n",
       "      <td>188.490892</td>\n",
       "      <td>18.333333</td>\n",
       "      <td>816.793867</td>\n",
       "    </tr>\n",
       "    <tr>\n",
       "      <th>13</th>\n",
       "      <td>13</td>\n",
       "      <td>5.000000</td>\n",
       "      <td>103.111684</td>\n",
       "      <td>18.000000</td>\n",
       "      <td>515.558419</td>\n",
       "    </tr>\n",
       "    <tr>\n",
       "      <th>15</th>\n",
       "      <td>74</td>\n",
       "      <td>5.666667</td>\n",
       "      <td>32.319825</td>\n",
       "      <td>79.666667</td>\n",
       "      <td>183.145677</td>\n",
       "    </tr>\n",
       "    <tr>\n",
       "      <th>17</th>\n",
       "      <td>44</td>\n",
       "      <td>6.333333</td>\n",
       "      <td>50.470450</td>\n",
       "      <td>50.333333</td>\n",
       "      <td>319.646184</td>\n",
       "    </tr>\n",
       "    <tr>\n",
       "      <th>19</th>\n",
       "      <td>81</td>\n",
       "      <td>7.000000</td>\n",
       "      <td>188.765636</td>\n",
       "      <td>88.000000</td>\n",
       "      <td>1321.359451</td>\n",
       "    </tr>\n",
       "  </tbody>\n",
       "</table>\n",
       "</div>"
      ],
      "text/plain": [
       "     A         B           C          D            E\n",
       "1   93  1.000000  170.696625  94.000000   170.696625\n",
       "3   38  1.666667   78.793291  39.666667   131.322152\n",
       "5   10  2.333333  177.710807  12.333333   414.658550\n",
       "7   42  3.000000   76.169552  45.000000   228.508657\n",
       "9   82  3.666667   25.129794  85.666667    92.142578\n",
       "11  14  4.333333  188.490892  18.333333   816.793867\n",
       "13  13  5.000000  103.111684  18.000000   515.558419\n",
       "15  74  5.666667   32.319825  79.666667   183.145677\n",
       "17  44  6.333333   50.470450  50.333333   319.646184\n",
       "19  81  7.000000  188.765636  88.000000  1321.359451"
      ]
     },
     "execution_count": 405,
     "metadata": {},
     "output_type": "execute_result"
    }
   ],
   "source": [
    "df['D'] = df['A'] + df['B']\n",
    "df['E'] = df['B'] * df['C']\n",
    "df"
   ]
  },
  {
   "cell_type": "code",
   "execution_count": 406,
   "metadata": {},
   "outputs": [
    {
     "data": {
      "text/html": [
       "<div>\n",
       "<style scoped>\n",
       "    .dataframe tbody tr th:only-of-type {\n",
       "        vertical-align: middle;\n",
       "    }\n",
       "\n",
       "    .dataframe tbody tr th {\n",
       "        vertical-align: top;\n",
       "    }\n",
       "\n",
       "    .dataframe thead th {\n",
       "        text-align: right;\n",
       "    }\n",
       "</style>\n",
       "<table border=\"1\" class=\"dataframe\">\n",
       "  <thead>\n",
       "    <tr style=\"text-align: right;\">\n",
       "      <th></th>\n",
       "      <th>A</th>\n",
       "      <th>C</th>\n",
       "      <th>D</th>\n",
       "      <th>E</th>\n",
       "    </tr>\n",
       "  </thead>\n",
       "  <tbody>\n",
       "    <tr>\n",
       "      <th>1</th>\n",
       "      <td>93</td>\n",
       "      <td>170.696625</td>\n",
       "      <td>94.000000</td>\n",
       "      <td>170.696625</td>\n",
       "    </tr>\n",
       "    <tr>\n",
       "      <th>3</th>\n",
       "      <td>38</td>\n",
       "      <td>78.793291</td>\n",
       "      <td>39.666667</td>\n",
       "      <td>131.322152</td>\n",
       "    </tr>\n",
       "    <tr>\n",
       "      <th>5</th>\n",
       "      <td>10</td>\n",
       "      <td>177.710807</td>\n",
       "      <td>12.333333</td>\n",
       "      <td>414.658550</td>\n",
       "    </tr>\n",
       "    <tr>\n",
       "      <th>7</th>\n",
       "      <td>42</td>\n",
       "      <td>76.169552</td>\n",
       "      <td>45.000000</td>\n",
       "      <td>228.508657</td>\n",
       "    </tr>\n",
       "    <tr>\n",
       "      <th>9</th>\n",
       "      <td>82</td>\n",
       "      <td>25.129794</td>\n",
       "      <td>85.666667</td>\n",
       "      <td>92.142578</td>\n",
       "    </tr>\n",
       "    <tr>\n",
       "      <th>11</th>\n",
       "      <td>14</td>\n",
       "      <td>188.490892</td>\n",
       "      <td>18.333333</td>\n",
       "      <td>816.793867</td>\n",
       "    </tr>\n",
       "    <tr>\n",
       "      <th>13</th>\n",
       "      <td>13</td>\n",
       "      <td>103.111684</td>\n",
       "      <td>18.000000</td>\n",
       "      <td>515.558419</td>\n",
       "    </tr>\n",
       "    <tr>\n",
       "      <th>15</th>\n",
       "      <td>74</td>\n",
       "      <td>32.319825</td>\n",
       "      <td>79.666667</td>\n",
       "      <td>183.145677</td>\n",
       "    </tr>\n",
       "    <tr>\n",
       "      <th>17</th>\n",
       "      <td>44</td>\n",
       "      <td>50.470450</td>\n",
       "      <td>50.333333</td>\n",
       "      <td>319.646184</td>\n",
       "    </tr>\n",
       "    <tr>\n",
       "      <th>19</th>\n",
       "      <td>81</td>\n",
       "      <td>188.765636</td>\n",
       "      <td>88.000000</td>\n",
       "      <td>1321.359451</td>\n",
       "    </tr>\n",
       "  </tbody>\n",
       "</table>\n",
       "</div>"
      ],
      "text/plain": [
       "     A           C          D            E\n",
       "1   93  170.696625  94.000000   170.696625\n",
       "3   38   78.793291  39.666667   131.322152\n",
       "5   10  177.710807  12.333333   414.658550\n",
       "7   42   76.169552  45.000000   228.508657\n",
       "9   82   25.129794  85.666667    92.142578\n",
       "11  14  188.490892  18.333333   816.793867\n",
       "13  13  103.111684  18.000000   515.558419\n",
       "15  74   32.319825  79.666667   183.145677\n",
       "17  44   50.470450  50.333333   319.646184\n",
       "19  81  188.765636  88.000000  1321.359451"
      ]
     },
     "execution_count": 406,
     "metadata": {},
     "output_type": "execute_result"
    }
   ],
   "source": [
    "df.drop('B',axis=1,inplace=True)\n",
    "df"
   ]
  },
  {
   "cell_type": "markdown",
   "metadata": {},
   "source": [
    "### SOAL 8"
   ]
  },
  {
   "cell_type": "code",
   "execution_count": 413,
   "metadata": {},
   "outputs": [
    {
     "data": {
      "text/html": [
       "<div>\n",
       "<style scoped>\n",
       "    .dataframe tbody tr th:only-of-type {\n",
       "        vertical-align: middle;\n",
       "    }\n",
       "\n",
       "    .dataframe tbody tr th {\n",
       "        vertical-align: top;\n",
       "    }\n",
       "\n",
       "    .dataframe thead th {\n",
       "        text-align: right;\n",
       "    }\n",
       "</style>\n",
       "<table border=\"1\" class=\"dataframe\">\n",
       "  <thead>\n",
       "    <tr style=\"text-align: right;\">\n",
       "      <th></th>\n",
       "      <th>1</th>\n",
       "      <th>2</th>\n",
       "      <th>3</th>\n",
       "      <th>4</th>\n",
       "      <th>5</th>\n",
       "      <th>6</th>\n",
       "    </tr>\n",
       "  </thead>\n",
       "  <tbody>\n",
       "    <tr>\n",
       "      <th>P</th>\n",
       "      <td>93</td>\n",
       "      <td>279</td>\n",
       "      <td>170.697</td>\n",
       "      <td>0.0</td>\n",
       "      <td>1.0</td>\n",
       "      <td>0.00585835</td>\n",
       "    </tr>\n",
       "    <tr>\n",
       "      <th>Q</th>\n",
       "      <td>10</td>\n",
       "      <td>30</td>\n",
       "      <td>131.322</td>\n",
       "      <td>0.0</td>\n",
       "      <td>1.0</td>\n",
       "      <td>0.00761486</td>\n",
       "    </tr>\n",
       "    <tr>\n",
       "      <th>R</th>\n",
       "      <td>82</td>\n",
       "      <td>246</td>\n",
       "      <td>414.659</td>\n",
       "      <td>0.0</td>\n",
       "      <td>1.0</td>\n",
       "      <td>0.00241162</td>\n",
       "    </tr>\n",
       "    <tr>\n",
       "      <th>S</th>\n",
       "      <td>38</td>\n",
       "      <td>114</td>\n",
       "      <td>228.509</td>\n",
       "      <td>0.0</td>\n",
       "      <td>1.0</td>\n",
       "      <td>0.0043762</td>\n",
       "    </tr>\n",
       "    <tr>\n",
       "      <th>T</th>\n",
       "      <td>42</td>\n",
       "      <td>126</td>\n",
       "      <td>170.697</td>\n",
       "      <td>0.0</td>\n",
       "      <td>1.0</td>\n",
       "      <td>0.00585835</td>\n",
       "    </tr>\n",
       "    <tr>\n",
       "      <th>U</th>\n",
       "      <td>14</td>\n",
       "      <td>42</td>\n",
       "      <td>78.7933</td>\n",
       "      <td>0.0</td>\n",
       "      <td>1.0</td>\n",
       "      <td>0.0126914</td>\n",
       "    </tr>\n",
       "    <tr>\n",
       "      <th>V</th>\n",
       "      <td>82</td>\n",
       "      <td>246</td>\n",
       "      <td>177.711</td>\n",
       "      <td>0.0</td>\n",
       "      <td>1.0</td>\n",
       "      <td>0.00562712</td>\n",
       "    </tr>\n",
       "    <tr>\n",
       "      <th>W</th>\n",
       "      <td>14</td>\n",
       "      <td>42</td>\n",
       "      <td>76.1696</td>\n",
       "      <td>0.0</td>\n",
       "      <td>1.0</td>\n",
       "      <td>0.0131286</td>\n",
       "    </tr>\n",
       "    <tr>\n",
       "      <th>X</th>\n",
       "      <td>13</td>\n",
       "      <td>39</td>\n",
       "      <td>93</td>\n",
       "      <td>0.0</td>\n",
       "      <td>1.0</td>\n",
       "      <td>0.0107527</td>\n",
       "    </tr>\n",
       "  </tbody>\n",
       "</table>\n",
       "</div>"
      ],
      "text/plain": [
       "    1    2        3    4    5           6\n",
       "P  93  279  170.697  0.0  1.0  0.00585835\n",
       "Q  10   30  131.322  0.0  1.0  0.00761486\n",
       "R  82  246  414.659  0.0  1.0  0.00241162\n",
       "S  38  114  228.509  0.0  1.0   0.0043762\n",
       "T  42  126  170.697  0.0  1.0  0.00585835\n",
       "U  14   42  78.7933  0.0  1.0   0.0126914\n",
       "V  82  246  177.711  0.0  1.0  0.00562712\n",
       "W  14   42  76.1696  0.0  1.0   0.0131286\n",
       "X  13   39       93  0.0  1.0   0.0107527"
      ]
     },
     "execution_count": 413,
     "metadata": {},
     "output_type": "execute_result"
    }
   ],
   "source": [
    "df2 = pd.DataFrame(index='P Q R S T U V W X'.split(),columns='1 2 3 4 5 6'.split())\n",
    "\n",
    "# KOLOM 1\n",
    "df2.loc['P','1'] = df.loc['1','A']\n",
    "df2.loc['Q','1'] = df.loc['5','A']\n",
    "df2.loc['R','1'] = df.loc['9','A']\n",
    "df2.loc['S','1'] = df.loc['3','A']\n",
    "df2.loc['T','1'] = df.loc['7','A']\n",
    "df2.loc['U','1'] = df.loc['11','A']\n",
    "df2.loc['V','1'] = df.loc['9','A']\n",
    "df2.loc['W','1'] = df.loc['11','A']\n",
    "df2.loc['X','1'] = df.loc['13','A']\n",
    "\n",
    "# KOLOM 2\n",
    "df2['2'] = df2['1'] * 3\n",
    "\n",
    "# KOLOM 3\n",
    "df2.loc['P','3'] = df.loc['1','E']\n",
    "df2.loc['Q','3'] = df.loc['3','E']\n",
    "df2.loc['R','3'] = df.loc['5','E']\n",
    "df2.loc['S','3'] = df.loc['7','E']\n",
    "df2.loc['T','3'] = df.loc['1','C']\n",
    "df2.loc['U','3'] = df.loc['3','C']\n",
    "df2.loc['V','3'] = df.loc['5','C']\n",
    "df2.loc['W','3'] = df.loc['7','C']\n",
    "df2.loc['X','3'] = df.loc['1','A']\n",
    "\n",
    "# KOLOM 4\n",
    "df2['4'] = np.zeros(9)\n",
    "\n",
    "# KOLOM 5\n",
    "df2['5'] = np.ones(9)\n",
    "\n",
    "# KOLOM 6\n",
    "df2['6'] = df2['5'] / df2['3']\n",
    "\n",
    "df2"
   ]
  },
  {
   "cell_type": "code",
   "execution_count": 412,
   "metadata": {},
   "outputs": [
    {
     "data": {
      "text/html": [
       "<div>\n",
       "<style scoped>\n",
       "    .dataframe tbody tr th:only-of-type {\n",
       "        vertical-align: middle;\n",
       "    }\n",
       "\n",
       "    .dataframe tbody tr th {\n",
       "        vertical-align: top;\n",
       "    }\n",
       "\n",
       "    .dataframe thead th {\n",
       "        text-align: right;\n",
       "    }\n",
       "</style>\n",
       "<table border=\"1\" class=\"dataframe\">\n",
       "  <thead>\n",
       "    <tr style=\"text-align: right;\">\n",
       "      <th></th>\n",
       "      <th>1</th>\n",
       "      <th>2</th>\n",
       "      <th>3</th>\n",
       "      <th>4</th>\n",
       "      <th>5</th>\n",
       "      <th>6</th>\n",
       "    </tr>\n",
       "  </thead>\n",
       "  <tbody>\n",
       "    <tr>\n",
       "      <th>P</th>\n",
       "      <td>93</td>\n",
       "      <td>279</td>\n",
       "      <td>170.697</td>\n",
       "      <td>NaN</td>\n",
       "      <td>NaN</td>\n",
       "      <td>NaN</td>\n",
       "    </tr>\n",
       "    <tr>\n",
       "      <th>Q</th>\n",
       "      <td>10</td>\n",
       "      <td>30</td>\n",
       "      <td>131.322</td>\n",
       "      <td>NaN</td>\n",
       "      <td>NaN</td>\n",
       "      <td>NaN</td>\n",
       "    </tr>\n",
       "    <tr>\n",
       "      <th>R</th>\n",
       "      <td>82</td>\n",
       "      <td>246</td>\n",
       "      <td>414.659</td>\n",
       "      <td>NaN</td>\n",
       "      <td>NaN</td>\n",
       "      <td>NaN</td>\n",
       "    </tr>\n",
       "    <tr>\n",
       "      <th>S</th>\n",
       "      <td>38</td>\n",
       "      <td>114</td>\n",
       "      <td>228.509</td>\n",
       "      <td>NaN</td>\n",
       "      <td>NaN</td>\n",
       "      <td>NaN</td>\n",
       "    </tr>\n",
       "    <tr>\n",
       "      <th>T</th>\n",
       "      <td>42</td>\n",
       "      <td>126</td>\n",
       "      <td>170.697</td>\n",
       "      <td>NaN</td>\n",
       "      <td>NaN</td>\n",
       "      <td>NaN</td>\n",
       "    </tr>\n",
       "    <tr>\n",
       "      <th>U</th>\n",
       "      <td>14</td>\n",
       "      <td>42</td>\n",
       "      <td>78.7933</td>\n",
       "      <td>NaN</td>\n",
       "      <td>NaN</td>\n",
       "      <td>NaN</td>\n",
       "    </tr>\n",
       "    <tr>\n",
       "      <th>V</th>\n",
       "      <td>82</td>\n",
       "      <td>246</td>\n",
       "      <td>177.711</td>\n",
       "      <td>NaN</td>\n",
       "      <td>NaN</td>\n",
       "      <td>NaN</td>\n",
       "    </tr>\n",
       "    <tr>\n",
       "      <th>W</th>\n",
       "      <td>14</td>\n",
       "      <td>42</td>\n",
       "      <td>76.1696</td>\n",
       "      <td>NaN</td>\n",
       "      <td>NaN</td>\n",
       "      <td>NaN</td>\n",
       "    </tr>\n",
       "    <tr>\n",
       "      <th>X</th>\n",
       "      <td>13</td>\n",
       "      <td>39</td>\n",
       "      <td>93</td>\n",
       "      <td>NaN</td>\n",
       "      <td>NaN</td>\n",
       "      <td>NaN</td>\n",
       "    </tr>\n",
       "  </tbody>\n",
       "</table>\n",
       "</div>"
      ],
      "text/plain": [
       "    1    2        3   4   5    6\n",
       "P  93  279  170.697 NaN NaN  NaN\n",
       "Q  10   30  131.322 NaN NaN  NaN\n",
       "R  82  246  414.659 NaN NaN  NaN\n",
       "S  38  114  228.509 NaN NaN  NaN\n",
       "T  42  126  170.697 NaN NaN  NaN\n",
       "U  14   42  78.7933 NaN NaN  NaN\n",
       "V  82  246  177.711 NaN NaN  NaN\n",
       "W  14   42  76.1696 NaN NaN  NaN\n",
       "X  13   39       93 NaN NaN  NaN"
      ]
     },
     "execution_count": 412,
     "metadata": {},
     "output_type": "execute_result"
    }
   ],
   "source": [
    "df2[df2>5]"
   ]
  },
  {
   "cell_type": "markdown",
   "metadata": {},
   "source": [
    "### SOAL 9"
   ]
  },
  {
   "cell_type": "code",
   "execution_count": 42,
   "metadata": {},
   "outputs": [
    {
     "name": "stdout",
     "output_type": "stream",
     "text": [
      "Menu 1\n",
      "Menu 2\n",
      "Menu 3\n",
      "Menu 4\n",
      "Masukkan pilihan Anda: 4\n",
      "Masukkan sebuah kalimat: saya suka makan roti coklat\n",
      "    1   2          3           4\n",
      "1   s   0   1.468456    0.000000\n",
      "2   a   1  11.071385   11.071385\n",
      "3   y   1   4.039850    4.039850\n",
      "4   a   2  16.895088   33.790176\n",
      "5   s   3   5.792000   17.375999\n",
      "6   u   5   8.525239   42.626196\n",
      "7   k   8   4.179140   33.433117\n",
      "8   a  13  18.107147  235.392913\n",
      "9   m  21   7.553315  158.619614\n",
      "10  a  34   3.890351  132.271945\n"
     ]
    }
   ],
   "source": [
    "print('Menu 1')\n",
    "print('Menu 2')\n",
    "print('Menu 3')\n",
    "print('Menu 4')\n",
    "p = int(input('Masukkan pilihan Anda: '))\n",
    "if p == 1:\n",
    "    bar = int(input('Masukkan jumlah baris: '))\n",
    "    kol = int(input('Masukkan jumlah kolom: '))\n",
    "    df3 = pd.DataFrame(index=range(1,bar+1),columns=range(1,kol+1))\n",
    "    for i in range(1,kol+1):\n",
    "        if i % 2 == 0:\n",
    "            df3[i] = range(12,22)\n",
    "        else:\n",
    "            df3[i] = np.random.randint(1,11,10)\n",
    "    print(df3)\n",
    "elif p == 2:\n",
    "    df4 = pd.DataFrame(index=range(1,11),columns=range(1,6))\n",
    "    jrand = 0\n",
    "    li1 = []\n",
    "    while jrand < 10:\n",
    "        rand = int(np.random.randint(10,51,1))\n",
    "        if rand % 2 == 0:\n",
    "            li1.append(rand)\n",
    "            jrand += 1\n",
    "    df4[1] = li1\n",
    "    jrand = 0\n",
    "    li2 = []\n",
    "    while jrand < 10:\n",
    "        rand = int(np.random.randint(10,51,1))\n",
    "        if rand % 2 == 0:\n",
    "            li2.append(rand)\n",
    "            jrand += 1\n",
    "    df4[2] = li2\n",
    "    jrand = 0\n",
    "    li3 = []\n",
    "    while jrand < 10:\n",
    "        rand = int(np.random.randint(1,30,1))\n",
    "        if rand % 2 != 0:\n",
    "            li3.append(rand)\n",
    "            jrand += 1\n",
    "    df4[3] = li3\n",
    "    jrand = 0\n",
    "    li4 = []\n",
    "    while jrand < 10:\n",
    "        rand = int(np.random.randint(1,30,1))\n",
    "        if rand % 2 != 0:\n",
    "            li4.append(rand)\n",
    "            jrand += 1\n",
    "    df4[4] = li4\n",
    "    df4[5] = np.linspace(1,3,10)\n",
    "    print(df4)\n",
    "elif p == 3:\n",
    "    df5 = pd.DataFrame(np.random.randn(10,3),index=range(1,11),columns=range(1,4))\n",
    "    print(df5[df5>5])\n",
    "elif p == 4:\n",
    "    df6 = pd.DataFrame(index=range(1,11),columns=range(1,5))\n",
    "    # KOLOM 1\n",
    "    kalimat = input('Masukkan sebuah kalimat: ').replace(' ','')\n",
    "    pecahan = list(kalimat[0:10:1])\n",
    "    df6[1] = pecahan\n",
    "    # KOLOM 2\n",
    "    fibo = [0, 1]\n",
    "    for i in range(2,10):\n",
    "        fibo.append(fibo[i-1]+fibo[i-2])\n",
    "    df6[2] = fibo\n",
    "    # KOLOM 3\n",
    "    df6[3] = np.random.uniform(1,21,10)\n",
    "    # KOLOM 4\n",
    "    df6[4] = df6[2] * df6[3]\n",
    "    print(df6)"
   ]
  },
  {
   "cell_type": "code",
   "execution_count": null,
   "metadata": {},
   "outputs": [],
   "source": []
  }
 ],
 "metadata": {
  "kernelspec": {
   "display_name": "Python 3",
   "language": "python",
   "name": "python3"
  },
  "language_info": {
   "codemirror_mode": {
    "name": "ipython",
    "version": 3
   },
   "file_extension": ".py",
   "mimetype": "text/x-python",
   "name": "python",
   "nbconvert_exporter": "python",
   "pygments_lexer": "ipython3",
   "version": "3.7.6"
  }
 },
 "nbformat": 4,
 "nbformat_minor": 4
}
